{
  "cells": [
    {
      "cell_type": "code",
      "execution_count": 1,
      "metadata": {
        "id": "0Qk9GrkPWFMV"
      },
      "outputs": [],
      "source": [
        "import pandas as pd      \n",
        "import numpy as np \n",
        "from sklearn.metrics import mean_squared_error, mean_absolute_error, r2_score\n",
        "from sklearn.model_selection import train_test_split\n",
        "pd.set_option('display.max_columns', 500) # 500 sütuna kadar göster\n",
        "pd.set_option('display.max_rows', 500) # 500 satıra kadar göster\n",
        "pd.set_option('display.float_format', lambda x: '%.3f' % x)"
      ]
    },
    {
      "cell_type": "code",
      "execution_count": 21,
      "metadata": {
        "id": "Oc0DVGi2WFMY"
      },
      "outputs": [],
      "source": [
        "df=pd.read_csv(\"/content/final_scout_not_dummy.csv\")"
      ]
    },
    {
      "cell_type": "code",
      "source": [
        "df.head()"
      ],
      "metadata": {
        "colab": {
          "base_uri": "https://localhost:8080/",
          "height": 513
        },
        "id": "HoK2M2TVXFeG",
        "outputId": "75d752f1-d55e-4f15-b61c-44b50b244a0b"
      },
      "execution_count": 22,
      "outputs": [
        {
          "output_type": "execute_result",
          "data": {
            "text/plain": [
              "  make_model body_type  price               vat        km  Type     Fuel  \\\n",
              "0    Audi A1    Sedans  15770    VAT deductible 56013.000  Used   Diesel   \n",
              "1    Audi A1    Sedans  14500  Price negotiable 80000.000  Used  Benzine   \n",
              "2    Audi A1    Sedans  14640    VAT deductible 83450.000  Used   Diesel   \n",
              "3    Audi A1    Sedans  14500    VAT deductible 73000.000  Used   Diesel   \n",
              "4    Audi A1    Sedans  16790    VAT deductible 16200.000  Used   Diesel   \n",
              "\n",
              "   Gears                                Comfort_Convenience  \\\n",
              "0  7.000  Air conditioning,Armrest,Automatic climate con...   \n",
              "1  7.000  Air conditioning,Automatic climate control,Hil...   \n",
              "2  7.000  Air conditioning,Cruise control,Electrical sid...   \n",
              "3  6.000  Air suspension,Armrest,Auxiliary heating,Elect...   \n",
              "4  7.000  Air conditioning,Armrest,Automatic climate con...   \n",
              "\n",
              "                                 Entertainment_Media  \\\n",
              "0  Bluetooth,Hands-free equipment,On-board comput...   \n",
              "1  Bluetooth,Hands-free equipment,On-board comput...   \n",
              "2                              MP3,On-board computer   \n",
              "3  Bluetooth,CD player,Hands-free equipment,MP3,O...   \n",
              "4  Bluetooth,CD player,Hands-free equipment,MP3,O...   \n",
              "\n",
              "                                              Extras  \\\n",
              "0     Alloy wheels,Catalytic Converter,Voice Control   \n",
              "1  Alloy wheels,Sport seats,Sport suspension,Voic...   \n",
              "2                         Alloy wheels,Voice Control   \n",
              "3             Alloy wheels,Sport seats,Voice Control   \n",
              "4  Alloy wheels,Sport package,Sport suspension,Vo...   \n",
              "\n",
              "                                     Safety_Security   age  Previous_Owners  \\\n",
              "0  ABS,Central door lock,Daytime running lights,D... 3.000            2.000   \n",
              "1  ABS,Central door lock,Central door lock with r... 2.000            1.000   \n",
              "2  ABS,Central door lock,Daytime running lights,D... 3.000            1.000   \n",
              "3  ABS,Alarm system,Central door lock with remote... 3.000            1.000   \n",
              "4  ABS,Central door lock,Driver-side airbag,Elect... 3.000            1.000   \n",
              "\n",
              "    hp_kW  Inspection_new Paint_Type Upholstery_type Gearing_Type  \\\n",
              "0  66.000               1   Metallic           Cloth    Automatic   \n",
              "1 141.000               0   Metallic           Cloth    Automatic   \n",
              "2  85.000               0   Metallic           Cloth    Automatic   \n",
              "3  66.000               0   Metallic           Cloth    Automatic   \n",
              "4  66.000               1   Metallic           Cloth    Automatic   \n",
              "\n",
              "   Displacement_cc  Weight_kg Drive_chain  cons_comb  \n",
              "0         1422.000   1220.000       front      3.800  \n",
              "1         1798.000   1255.000       front      5.600  \n",
              "2         1598.000   1135.000       front      3.800  \n",
              "3         1422.000   1195.000       front      3.800  \n",
              "4         1422.000   1135.000       front      4.100  "
            ],
            "text/html": [
              "\n",
              "  <div id=\"df-c2763bec-fea1-42f9-b2dd-672d09409aed\">\n",
              "    <div class=\"colab-df-container\">\n",
              "      <div>\n",
              "<style scoped>\n",
              "    .dataframe tbody tr th:only-of-type {\n",
              "        vertical-align: middle;\n",
              "    }\n",
              "\n",
              "    .dataframe tbody tr th {\n",
              "        vertical-align: top;\n",
              "    }\n",
              "\n",
              "    .dataframe thead th {\n",
              "        text-align: right;\n",
              "    }\n",
              "</style>\n",
              "<table border=\"1\" class=\"dataframe\">\n",
              "  <thead>\n",
              "    <tr style=\"text-align: right;\">\n",
              "      <th></th>\n",
              "      <th>make_model</th>\n",
              "      <th>body_type</th>\n",
              "      <th>price</th>\n",
              "      <th>vat</th>\n",
              "      <th>km</th>\n",
              "      <th>Type</th>\n",
              "      <th>Fuel</th>\n",
              "      <th>Gears</th>\n",
              "      <th>Comfort_Convenience</th>\n",
              "      <th>Entertainment_Media</th>\n",
              "      <th>Extras</th>\n",
              "      <th>Safety_Security</th>\n",
              "      <th>age</th>\n",
              "      <th>Previous_Owners</th>\n",
              "      <th>hp_kW</th>\n",
              "      <th>Inspection_new</th>\n",
              "      <th>Paint_Type</th>\n",
              "      <th>Upholstery_type</th>\n",
              "      <th>Gearing_Type</th>\n",
              "      <th>Displacement_cc</th>\n",
              "      <th>Weight_kg</th>\n",
              "      <th>Drive_chain</th>\n",
              "      <th>cons_comb</th>\n",
              "    </tr>\n",
              "  </thead>\n",
              "  <tbody>\n",
              "    <tr>\n",
              "      <th>0</th>\n",
              "      <td>Audi A1</td>\n",
              "      <td>Sedans</td>\n",
              "      <td>15770</td>\n",
              "      <td>VAT deductible</td>\n",
              "      <td>56013.000</td>\n",
              "      <td>Used</td>\n",
              "      <td>Diesel</td>\n",
              "      <td>7.000</td>\n",
              "      <td>Air conditioning,Armrest,Automatic climate con...</td>\n",
              "      <td>Bluetooth,Hands-free equipment,On-board comput...</td>\n",
              "      <td>Alloy wheels,Catalytic Converter,Voice Control</td>\n",
              "      <td>ABS,Central door lock,Daytime running lights,D...</td>\n",
              "      <td>3.000</td>\n",
              "      <td>2.000</td>\n",
              "      <td>66.000</td>\n",
              "      <td>1</td>\n",
              "      <td>Metallic</td>\n",
              "      <td>Cloth</td>\n",
              "      <td>Automatic</td>\n",
              "      <td>1422.000</td>\n",
              "      <td>1220.000</td>\n",
              "      <td>front</td>\n",
              "      <td>3.800</td>\n",
              "    </tr>\n",
              "    <tr>\n",
              "      <th>1</th>\n",
              "      <td>Audi A1</td>\n",
              "      <td>Sedans</td>\n",
              "      <td>14500</td>\n",
              "      <td>Price negotiable</td>\n",
              "      <td>80000.000</td>\n",
              "      <td>Used</td>\n",
              "      <td>Benzine</td>\n",
              "      <td>7.000</td>\n",
              "      <td>Air conditioning,Automatic climate control,Hil...</td>\n",
              "      <td>Bluetooth,Hands-free equipment,On-board comput...</td>\n",
              "      <td>Alloy wheels,Sport seats,Sport suspension,Voic...</td>\n",
              "      <td>ABS,Central door lock,Central door lock with r...</td>\n",
              "      <td>2.000</td>\n",
              "      <td>1.000</td>\n",
              "      <td>141.000</td>\n",
              "      <td>0</td>\n",
              "      <td>Metallic</td>\n",
              "      <td>Cloth</td>\n",
              "      <td>Automatic</td>\n",
              "      <td>1798.000</td>\n",
              "      <td>1255.000</td>\n",
              "      <td>front</td>\n",
              "      <td>5.600</td>\n",
              "    </tr>\n",
              "    <tr>\n",
              "      <th>2</th>\n",
              "      <td>Audi A1</td>\n",
              "      <td>Sedans</td>\n",
              "      <td>14640</td>\n",
              "      <td>VAT deductible</td>\n",
              "      <td>83450.000</td>\n",
              "      <td>Used</td>\n",
              "      <td>Diesel</td>\n",
              "      <td>7.000</td>\n",
              "      <td>Air conditioning,Cruise control,Electrical sid...</td>\n",
              "      <td>MP3,On-board computer</td>\n",
              "      <td>Alloy wheels,Voice Control</td>\n",
              "      <td>ABS,Central door lock,Daytime running lights,D...</td>\n",
              "      <td>3.000</td>\n",
              "      <td>1.000</td>\n",
              "      <td>85.000</td>\n",
              "      <td>0</td>\n",
              "      <td>Metallic</td>\n",
              "      <td>Cloth</td>\n",
              "      <td>Automatic</td>\n",
              "      <td>1598.000</td>\n",
              "      <td>1135.000</td>\n",
              "      <td>front</td>\n",
              "      <td>3.800</td>\n",
              "    </tr>\n",
              "    <tr>\n",
              "      <th>3</th>\n",
              "      <td>Audi A1</td>\n",
              "      <td>Sedans</td>\n",
              "      <td>14500</td>\n",
              "      <td>VAT deductible</td>\n",
              "      <td>73000.000</td>\n",
              "      <td>Used</td>\n",
              "      <td>Diesel</td>\n",
              "      <td>6.000</td>\n",
              "      <td>Air suspension,Armrest,Auxiliary heating,Elect...</td>\n",
              "      <td>Bluetooth,CD player,Hands-free equipment,MP3,O...</td>\n",
              "      <td>Alloy wheels,Sport seats,Voice Control</td>\n",
              "      <td>ABS,Alarm system,Central door lock with remote...</td>\n",
              "      <td>3.000</td>\n",
              "      <td>1.000</td>\n",
              "      <td>66.000</td>\n",
              "      <td>0</td>\n",
              "      <td>Metallic</td>\n",
              "      <td>Cloth</td>\n",
              "      <td>Automatic</td>\n",
              "      <td>1422.000</td>\n",
              "      <td>1195.000</td>\n",
              "      <td>front</td>\n",
              "      <td>3.800</td>\n",
              "    </tr>\n",
              "    <tr>\n",
              "      <th>4</th>\n",
              "      <td>Audi A1</td>\n",
              "      <td>Sedans</td>\n",
              "      <td>16790</td>\n",
              "      <td>VAT deductible</td>\n",
              "      <td>16200.000</td>\n",
              "      <td>Used</td>\n",
              "      <td>Diesel</td>\n",
              "      <td>7.000</td>\n",
              "      <td>Air conditioning,Armrest,Automatic climate con...</td>\n",
              "      <td>Bluetooth,CD player,Hands-free equipment,MP3,O...</td>\n",
              "      <td>Alloy wheels,Sport package,Sport suspension,Vo...</td>\n",
              "      <td>ABS,Central door lock,Driver-side airbag,Elect...</td>\n",
              "      <td>3.000</td>\n",
              "      <td>1.000</td>\n",
              "      <td>66.000</td>\n",
              "      <td>1</td>\n",
              "      <td>Metallic</td>\n",
              "      <td>Cloth</td>\n",
              "      <td>Automatic</td>\n",
              "      <td>1422.000</td>\n",
              "      <td>1135.000</td>\n",
              "      <td>front</td>\n",
              "      <td>4.100</td>\n",
              "    </tr>\n",
              "  </tbody>\n",
              "</table>\n",
              "</div>\n",
              "      <button class=\"colab-df-convert\" onclick=\"convertToInteractive('df-c2763bec-fea1-42f9-b2dd-672d09409aed')\"\n",
              "              title=\"Convert this dataframe to an interactive table.\"\n",
              "              style=\"display:none;\">\n",
              "        \n",
              "  <svg xmlns=\"http://www.w3.org/2000/svg\" height=\"24px\"viewBox=\"0 0 24 24\"\n",
              "       width=\"24px\">\n",
              "    <path d=\"M0 0h24v24H0V0z\" fill=\"none\"/>\n",
              "    <path d=\"M18.56 5.44l.94 2.06.94-2.06 2.06-.94-2.06-.94-.94-2.06-.94 2.06-2.06.94zm-11 1L8.5 8.5l.94-2.06 2.06-.94-2.06-.94L8.5 2.5l-.94 2.06-2.06.94zm10 10l.94 2.06.94-2.06 2.06-.94-2.06-.94-.94-2.06-.94 2.06-2.06.94z\"/><path d=\"M17.41 7.96l-1.37-1.37c-.4-.4-.92-.59-1.43-.59-.52 0-1.04.2-1.43.59L10.3 9.45l-7.72 7.72c-.78.78-.78 2.05 0 2.83L4 21.41c.39.39.9.59 1.41.59.51 0 1.02-.2 1.41-.59l7.78-7.78 2.81-2.81c.8-.78.8-2.07 0-2.86zM5.41 20L4 18.59l7.72-7.72 1.47 1.35L5.41 20z\"/>\n",
              "  </svg>\n",
              "      </button>\n",
              "      \n",
              "  <style>\n",
              "    .colab-df-container {\n",
              "      display:flex;\n",
              "      flex-wrap:wrap;\n",
              "      gap: 12px;\n",
              "    }\n",
              "\n",
              "    .colab-df-convert {\n",
              "      background-color: #E8F0FE;\n",
              "      border: none;\n",
              "      border-radius: 50%;\n",
              "      cursor: pointer;\n",
              "      display: none;\n",
              "      fill: #1967D2;\n",
              "      height: 32px;\n",
              "      padding: 0 0 0 0;\n",
              "      width: 32px;\n",
              "    }\n",
              "\n",
              "    .colab-df-convert:hover {\n",
              "      background-color: #E2EBFA;\n",
              "      box-shadow: 0px 1px 2px rgba(60, 64, 67, 0.3), 0px 1px 3px 1px rgba(60, 64, 67, 0.15);\n",
              "      fill: #174EA6;\n",
              "    }\n",
              "\n",
              "    [theme=dark] .colab-df-convert {\n",
              "      background-color: #3B4455;\n",
              "      fill: #D2E3FC;\n",
              "    }\n",
              "\n",
              "    [theme=dark] .colab-df-convert:hover {\n",
              "      background-color: #434B5C;\n",
              "      box-shadow: 0px 1px 3px 1px rgba(0, 0, 0, 0.15);\n",
              "      filter: drop-shadow(0px 1px 2px rgba(0, 0, 0, 0.3));\n",
              "      fill: #FFFFFF;\n",
              "    }\n",
              "  </style>\n",
              "\n",
              "      <script>\n",
              "        const buttonEl =\n",
              "          document.querySelector('#df-c2763bec-fea1-42f9-b2dd-672d09409aed button.colab-df-convert');\n",
              "        buttonEl.style.display =\n",
              "          google.colab.kernel.accessAllowed ? 'block' : 'none';\n",
              "\n",
              "        async function convertToInteractive(key) {\n",
              "          const element = document.querySelector('#df-c2763bec-fea1-42f9-b2dd-672d09409aed');\n",
              "          const dataTable =\n",
              "            await google.colab.kernel.invokeFunction('convertToInteractive',\n",
              "                                                     [key], {});\n",
              "          if (!dataTable) return;\n",
              "\n",
              "          const docLinkHtml = 'Like what you see? Visit the ' +\n",
              "            '<a target=\"_blank\" href=https://colab.research.google.com/notebooks/data_table.ipynb>data table notebook</a>'\n",
              "            + ' to learn more about interactive tables.';\n",
              "          element.innerHTML = '';\n",
              "          dataTable['output_type'] = 'display_data';\n",
              "          await google.colab.output.renderOutput(dataTable, element);\n",
              "          const docLink = document.createElement('div');\n",
              "          docLink.innerHTML = docLinkHtml;\n",
              "          element.appendChild(docLink);\n",
              "        }\n",
              "      </script>\n",
              "    </div>\n",
              "  </div>\n",
              "  "
            ]
          },
          "metadata": {},
          "execution_count": 22
        }
      ]
    },
    {
      "cell_type": "code",
      "source": [
        "df= df[[\"make_model\",\"hp_kW\",\"km\",\"Fuel\",\"age\",\"Gearing_Type\",\"price\"]]"
      ],
      "metadata": {
        "id": "tXAqOwUVZCWd"
      },
      "execution_count": 23,
      "outputs": []
    },
    {
      "cell_type": "code",
      "execution_count": 25,
      "metadata": {
        "id": "SKOQ8qvvWFMZ"
      },
      "outputs": [],
      "source": [
        "df= pd.get_dummies(df)"
      ]
    },
    {
      "cell_type": "code",
      "execution_count": 27,
      "metadata": {
        "id": "y9hg1SUVWFMZ"
      },
      "outputs": [],
      "source": [
        "X = df.drop(\"price\", axis =1)\n",
        "y = df[\"price\"]"
      ]
    },
    {
      "cell_type": "code",
      "execution_count": 28,
      "metadata": {
        "id": "LCLKwb9UWFMa"
      },
      "outputs": [],
      "source": [
        "from sklearn.model_selection import train_test_split"
      ]
    },
    {
      "cell_type": "code",
      "execution_count": 29,
      "metadata": {
        "id": "36nGsLeFWFMa"
      },
      "outputs": [],
      "source": [
        "X_train, X_test, y_train, y_test = train_test_split(X, y, test_size = 0.3, random_state = 101)"
      ]
    },
    {
      "cell_type": "code",
      "execution_count": 30,
      "metadata": {
        "colab": {
          "base_uri": "https://localhost:8080/"
        },
        "id": "6AJNCCCWWFMa",
        "outputId": "51abc078-7358-4c2e-a973-9ab487ef742d"
      },
      "outputs": [
        {
          "output_type": "stream",
          "name": "stdout",
          "text": [
            "Looking in indexes: https://pypi.org/simple, https://us-python.pkg.dev/colab-wheels/public/simple/\n",
            "Requirement already satisfied: xgboost==0.90 in /usr/local/lib/python3.7/dist-packages (0.90)\n",
            "Requirement already satisfied: numpy in /usr/local/lib/python3.7/dist-packages (from xgboost==0.90) (1.21.6)\n",
            "Requirement already satisfied: scipy in /usr/local/lib/python3.7/dist-packages (from xgboost==0.90) (1.7.3)\n"
          ]
        }
      ],
      "source": [
        "!pip install xgboost==0.90"
      ]
    },
    {
      "cell_type": "code",
      "execution_count": 31,
      "metadata": {
        "colab": {
          "base_uri": "https://localhost:8080/"
        },
        "id": "uhmH17C5WFMb",
        "outputId": "f4ceaa44-1a6f-4751-b795-574ea8d8c5a7"
      },
      "outputs": [
        {
          "output_type": "execute_result",
          "data": {
            "text/plain": [
              "XGBRegressor(objective='reg:squarederror', random_state=24)"
            ]
          },
          "metadata": {},
          "execution_count": 31
        }
      ],
      "source": [
        "from xgboost import XGBRegressor\n",
        "xgb_model = XGBRegressor(random_state=24, objective=\"reg:squarederror\") #objective=\"reg:squarederror\"\n",
        "xgb_model.fit(X_train, y_train)"
      ]
    },
    {
      "cell_type": "code",
      "execution_count": 32,
      "metadata": {
        "id": "rw-OIkH4WFMb"
      },
      "outputs": [],
      "source": [
        "def train_val(model, X_train, y_train, X_test, y_test):\n",
        "    \n",
        "    y_pred = model.predict(X_test)\n",
        "    y_train_pred = model.predict(X_train)\n",
        "    \n",
        "    scores = {\"train\": {\"R2\" : r2_score(y_train, y_train_pred),\n",
        "    \"mae\" : mean_absolute_error(y_train, y_train_pred),\n",
        "    \"mse\" : mean_squared_error(y_train, y_train_pred),                          \n",
        "    \"rmse\" : np.sqrt(mean_squared_error(y_train, y_train_pred))},\n",
        "    \n",
        "    \"test\": {\"R2\" : r2_score(y_test, y_pred),\n",
        "    \"mae\" : mean_absolute_error(y_test, y_pred),\n",
        "    \"mse\" : mean_squared_error(y_test, y_pred),\n",
        "    \"rmse\" : np.sqrt(mean_squared_error(y_test, y_pred))}}\n",
        "    \n",
        "    return pd.DataFrame(scores)"
      ]
    },
    {
      "cell_type": "code",
      "execution_count": 33,
      "metadata": {
        "colab": {
          "base_uri": "https://localhost:8080/",
          "height": 175
        },
        "id": "oPbO3C5hWFMc",
        "outputId": "3086c80b-ab7e-490b-b8ea-2409f359d764"
      },
      "outputs": [
        {
          "output_type": "execute_result",
          "data": {
            "text/plain": [
              "           train        test\n",
              "R2         0.920       0.912\n",
              "mae     1348.401    1411.117\n",
              "mse  4381332.069 4666684.226\n",
              "rmse    2093.163    2160.251"
            ],
            "text/html": [
              "\n",
              "  <div id=\"df-0d8e2038-0629-4ba0-bb82-c82613ce9502\">\n",
              "    <div class=\"colab-df-container\">\n",
              "      <div>\n",
              "<style scoped>\n",
              "    .dataframe tbody tr th:only-of-type {\n",
              "        vertical-align: middle;\n",
              "    }\n",
              "\n",
              "    .dataframe tbody tr th {\n",
              "        vertical-align: top;\n",
              "    }\n",
              "\n",
              "    .dataframe thead th {\n",
              "        text-align: right;\n",
              "    }\n",
              "</style>\n",
              "<table border=\"1\" class=\"dataframe\">\n",
              "  <thead>\n",
              "    <tr style=\"text-align: right;\">\n",
              "      <th></th>\n",
              "      <th>train</th>\n",
              "      <th>test</th>\n",
              "    </tr>\n",
              "  </thead>\n",
              "  <tbody>\n",
              "    <tr>\n",
              "      <th>R2</th>\n",
              "      <td>0.920</td>\n",
              "      <td>0.912</td>\n",
              "    </tr>\n",
              "    <tr>\n",
              "      <th>mae</th>\n",
              "      <td>1348.401</td>\n",
              "      <td>1411.117</td>\n",
              "    </tr>\n",
              "    <tr>\n",
              "      <th>mse</th>\n",
              "      <td>4381332.069</td>\n",
              "      <td>4666684.226</td>\n",
              "    </tr>\n",
              "    <tr>\n",
              "      <th>rmse</th>\n",
              "      <td>2093.163</td>\n",
              "      <td>2160.251</td>\n",
              "    </tr>\n",
              "  </tbody>\n",
              "</table>\n",
              "</div>\n",
              "      <button class=\"colab-df-convert\" onclick=\"convertToInteractive('df-0d8e2038-0629-4ba0-bb82-c82613ce9502')\"\n",
              "              title=\"Convert this dataframe to an interactive table.\"\n",
              "              style=\"display:none;\">\n",
              "        \n",
              "  <svg xmlns=\"http://www.w3.org/2000/svg\" height=\"24px\"viewBox=\"0 0 24 24\"\n",
              "       width=\"24px\">\n",
              "    <path d=\"M0 0h24v24H0V0z\" fill=\"none\"/>\n",
              "    <path d=\"M18.56 5.44l.94 2.06.94-2.06 2.06-.94-2.06-.94-.94-2.06-.94 2.06-2.06.94zm-11 1L8.5 8.5l.94-2.06 2.06-.94-2.06-.94L8.5 2.5l-.94 2.06-2.06.94zm10 10l.94 2.06.94-2.06 2.06-.94-2.06-.94-.94-2.06-.94 2.06-2.06.94z\"/><path d=\"M17.41 7.96l-1.37-1.37c-.4-.4-.92-.59-1.43-.59-.52 0-1.04.2-1.43.59L10.3 9.45l-7.72 7.72c-.78.78-.78 2.05 0 2.83L4 21.41c.39.39.9.59 1.41.59.51 0 1.02-.2 1.41-.59l7.78-7.78 2.81-2.81c.8-.78.8-2.07 0-2.86zM5.41 20L4 18.59l7.72-7.72 1.47 1.35L5.41 20z\"/>\n",
              "  </svg>\n",
              "      </button>\n",
              "      \n",
              "  <style>\n",
              "    .colab-df-container {\n",
              "      display:flex;\n",
              "      flex-wrap:wrap;\n",
              "      gap: 12px;\n",
              "    }\n",
              "\n",
              "    .colab-df-convert {\n",
              "      background-color: #E8F0FE;\n",
              "      border: none;\n",
              "      border-radius: 50%;\n",
              "      cursor: pointer;\n",
              "      display: none;\n",
              "      fill: #1967D2;\n",
              "      height: 32px;\n",
              "      padding: 0 0 0 0;\n",
              "      width: 32px;\n",
              "    }\n",
              "\n",
              "    .colab-df-convert:hover {\n",
              "      background-color: #E2EBFA;\n",
              "      box-shadow: 0px 1px 2px rgba(60, 64, 67, 0.3), 0px 1px 3px 1px rgba(60, 64, 67, 0.15);\n",
              "      fill: #174EA6;\n",
              "    }\n",
              "\n",
              "    [theme=dark] .colab-df-convert {\n",
              "      background-color: #3B4455;\n",
              "      fill: #D2E3FC;\n",
              "    }\n",
              "\n",
              "    [theme=dark] .colab-df-convert:hover {\n",
              "      background-color: #434B5C;\n",
              "      box-shadow: 0px 1px 3px 1px rgba(0, 0, 0, 0.15);\n",
              "      filter: drop-shadow(0px 1px 2px rgba(0, 0, 0, 0.3));\n",
              "      fill: #FFFFFF;\n",
              "    }\n",
              "  </style>\n",
              "\n",
              "      <script>\n",
              "        const buttonEl =\n",
              "          document.querySelector('#df-0d8e2038-0629-4ba0-bb82-c82613ce9502 button.colab-df-convert');\n",
              "        buttonEl.style.display =\n",
              "          google.colab.kernel.accessAllowed ? 'block' : 'none';\n",
              "\n",
              "        async function convertToInteractive(key) {\n",
              "          const element = document.querySelector('#df-0d8e2038-0629-4ba0-bb82-c82613ce9502');\n",
              "          const dataTable =\n",
              "            await google.colab.kernel.invokeFunction('convertToInteractive',\n",
              "                                                     [key], {});\n",
              "          if (!dataTable) return;\n",
              "\n",
              "          const docLinkHtml = 'Like what you see? Visit the ' +\n",
              "            '<a target=\"_blank\" href=https://colab.research.google.com/notebooks/data_table.ipynb>data table notebook</a>'\n",
              "            + ' to learn more about interactive tables.';\n",
              "          element.innerHTML = '';\n",
              "          dataTable['output_type'] = 'display_data';\n",
              "          await google.colab.output.renderOutput(dataTable, element);\n",
              "          const docLink = document.createElement('div');\n",
              "          docLink.innerHTML = docLinkHtml;\n",
              "          element.appendChild(docLink);\n",
              "        }\n",
              "      </script>\n",
              "    </div>\n",
              "  </div>\n",
              "  "
            ]
          },
          "metadata": {},
          "execution_count": 33
        }
      ],
      "source": [
        "train_val(xgb_model, X_train, y_train, X_test, y_test)"
      ]
    },
    {
      "cell_type": "code",
      "execution_count": 34,
      "metadata": {
        "id": "__eParQ8WFMc"
      },
      "outputs": [],
      "source": [
        "import pickle"
      ]
    },
    {
      "cell_type": "code",
      "execution_count": 35,
      "metadata": {
        "colab": {
          "base_uri": "https://localhost:8080/"
        },
        "id": "Pw2uCpPoWFMc",
        "outputId": "76be6657-64b6-43ae-9145-30da616afed3"
      },
      "outputs": [
        {
          "output_type": "execute_result",
          "data": {
            "text/plain": [
              "XGBRegressor(objective='reg:squarederror', random_state=24)"
            ]
          },
          "metadata": {},
          "execution_count": 35
        }
      ],
      "source": [
        "from xgboost import XGBRegressor\n",
        "xgb_model = XGBRegressor(random_state=24, objective=\"reg:squarederror\") #objective=\"reg:squarederror\"\n",
        "xgb_model.fit(X, y)"
      ]
    },
    {
      "cell_type": "code",
      "execution_count": 36,
      "metadata": {
        "id": "GG6ybcxiWFMc"
      },
      "outputs": [],
      "source": [
        "pickle.dump(xgb_model, open(\"xgb_model\", 'wb'))"
      ]
    }
  ],
  "metadata": {
    "kernelspec": {
      "display_name": "Python 3.9.12 ('env_oguzhan': venv)",
      "language": "python",
      "name": "python3"
    },
    "language_info": {
      "codemirror_mode": {
        "name": "ipython",
        "version": 3
      },
      "file_extension": ".py",
      "mimetype": "text/x-python",
      "name": "python",
      "nbconvert_exporter": "python",
      "pygments_lexer": "ipython3",
      "version": "3.9.12"
    },
    "orig_nbformat": 4,
    "vscode": {
      "interpreter": {
        "hash": "4245e69d953134fbb9b0157d56977306307d45d21edb80b18bdac1ac1606718f"
      }
    },
    "colab": {
      "provenance": []
    }
  },
  "nbformat": 4,
  "nbformat_minor": 0
}